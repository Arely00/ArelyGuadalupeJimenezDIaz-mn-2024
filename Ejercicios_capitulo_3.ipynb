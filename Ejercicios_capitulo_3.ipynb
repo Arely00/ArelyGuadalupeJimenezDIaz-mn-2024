{
 "cells": [
  {
   "cell_type": "code",
   "execution_count": 27,
   "id": "b6328473-350b-43ef-bba3-4c16d4a079f7",
   "metadata": {},
   "outputs": [],
   "source": [
    "import sympy as sym\n",
    "import math\n",
    "import numpy as np"
   ]
  },
  {
   "cell_type": "markdown",
   "id": "dccec893-571b-4cac-8f60-1fe22dc06b0d",
   "metadata": {},
   "source": [
    "**Ejercicios capitulo 3**\n",
    "\n",
    "**2.1** Make sure SymPy is installed on your system; use it to analytically differentiate the function $f(x) = e^{sin(2x)}$. Then, evaluate the derivative at a few points from $x = 0 to x = 0.5$. Compare the latter values to the output of fprime() from code 3.1."
   ]
  },
  {
   "cell_type": "code",
   "execution_count": 70,
   "id": "837af7b8-f866-4d5b-b178-afe155d891e8",
   "metadata": {},
   "outputs": [
    {
     "name": "stdout",
     "output_type": "stream",
     "text": [
      "[2.         2.04080771 2.0815628  2.12221008 2.16269158 2.2029465\n",
      " 2.2429113  2.28251962 2.32170242 2.36038793 2.39850177 2.435967\n",
      " 2.47270421 2.50863159 2.54366508 2.57771848 2.61070359 2.64253037\n",
      " 2.6731071  2.7023406  2.7301364  2.75639898 2.78103199 2.80393852\n",
      " 2.82502133 2.84418318 2.86132708 2.87635659 2.88917619 2.89969155\n",
      " 2.90780991 2.9134404  2.91649442 2.91688599 2.91453211 2.90935317\n",
      " 2.90127326 2.89022059 2.87612787 2.85893263 2.83857762 2.81501116\n",
      " 2.78818747 2.758067   2.7246168  2.68781075 2.6476299  2.60406268\n",
      " 2.55710523 2.50676153]\n"
     ]
    }
   ],
   "source": [
    "x=sym.Symbol(\"x\", real=True)\n",
    "fx = sym.exp(sym.sin(2*x))\n",
    "x1=fx.diff(x)\n",
    "f=sym.lambdify(x,x1)\n",
    "n=np.linspace(0,5)\n",
    "y=f(n*0.1)\n",
    "print(y)"
   ]
  },
  {
   "cell_type": "code",
   "execution_count": 76,
   "id": "2f653676-8561-403f-ba4f-fdc8f57e096b",
   "metadata": {},
   "outputs": [],
   "source": [
    "from math import exp, sin, cos\n",
    "\n",
    "def f(x):\n",
    "       return exp(sin(2*x))\n",
    "def fprime(x):\n",
    "    return 2*exp(sin(2*x))*cos(2*x)\n",
    "def calc_fd(f,x,h):\n",
    "    fd = (f(x+h) - f(x))/h\n",
    "    return fd\n",
    "def calc_cd(f,x,h):\n",
    "    cd = (f(x+h/2) - f(x-h/2))/h \n",
    "    return cd\n",
    "\n",
    "if __name__== '_main_':\n",
    "    x = 0.5\n",
    "    an = fprime(x)\n",
    "\n",
    "    hs = [10**(-i) for i in range(1,12)]\n",
    "    fds = [abs(calc_fd(f,x,h) - an) for h in hs] \n",
    "    cds = [abs(calc_cd(f,x,h) - an) for h in hs]\n",
    "    \n",
    "    rowf = \"{0:1.0e} {1:1.16f} {2:1.16f}\"\n",
    "    print(\"h abs. error in fd abs. error in cd\") \n",
    "    for h,fd,cd in zip(hs,fds,cds):\n",
    "        print(rowf.format(h,fd,cd))\n"
   ]
  },
  {
   "cell_type": "code",
   "execution_count": 82,
   "id": "6808e492-e409-4d81-adae-5f17c910367d",
   "metadata": {},
   "outputs": [
    {
     "name": "stdout",
     "output_type": "stream",
     "text": [
      "2.0 2.390928390207316 2.719196694525552 2.903231667171663 2.855116148159658 2.506761534986894\n"
     ]
    }
   ],
   "source": [
    "y=fprime(0)\n",
    "y1=fprime(0.1)\n",
    "y2=fprime(0.2)\n",
    "y3=fprime(0.3)\n",
    "y4=fprime(0.4)\n",
    "y5=fprime(0.5)\n",
    "print(y,y1,y2,y3,y4,y5)"
   ]
  },
  {
   "cell_type": "markdown",
   "id": "7d20dfdf-9fdf-4df5-b827-1b4b4f5898ac",
   "metadata": {},
   "source": [
    "**2.4** We turn to the fascinating approach of complex-step differentiation. First, Taylor\n",
    "expand $f (x + ih)$ around $x$, where $f$ is an analytic function; take the imaginary part of both sides and divide by h to show that $f'(x) = Im[ f (x + ih)/h] + O(h^2)$ holds. Then, augment Fig. 3.2 to include results from this new method; you’ll need to employ complex arithmetic. Unmistakably, circumventing catastrophic cancellation pays off."
   ]
  },
  {
   "cell_type": "markdown",
   "id": "68777c74-9477-4021-9ef4-9ff0a6966077",
   "metadata": {},
   "source": [
    "Si expandimos $f(x+ih)$ en serie de Taylor alrededor de x, obtenemos:\n",
    "$f(x+ih)=f(x)+ihf'(x)+\\cfrac{(ih)^2}{2}f''(x)+\\cfrac{(ih)^3}{6}f'''(x)+\\cdot \\cdot \\cdot $\n",
    "$f(x+ih)=f(x)+ihf'(x)+\\cfrac{-(h)^2}{2}f''(x)+\\cfrac{-i(h)^3}{6}f'''(x)+\\cdot \\cdot \\cdot $\n",
    "\n",
    "dividiendo entre h ambos lados:\n",
    "\n",
    "$\\cfrac{f(x+ih)}{h}=\\cfrac{f(x)+ihf'(x)+\\cfrac{-(h)^2}{2}f''(x)+\\cfrac{-i(h)^3}{6}f'''(x)+\\cdot \\cdot \\cdot}{h} $\n",
    "\n",
    "considerando que los terminos de orden 2 y mas grandes son desprecibles, podemos escribir:\n",
    "\n",
    "$\\cfrac{f(x+ih)}{h}=\\cfrac{f(x)+ihf'(x)-O(h^2)}{h}$\n",
    "\n",
    "Ahora si consideramos solo las partes imaginarias de las funciones.\n",
    "\n",
    "$Im\\left[\\cfrac{f(x+ih)}{h}\\right]=f'(x)-O(h^2) $\n",
    "\n",
    "$f'(x)=Im\\left[\\cfrac{f(x+ih)}{h}\\right]+O(h^2) $\n",
    "\n",
    "\n",
    "\n"
   ]
  },
  {
   "cell_type": "code",
   "execution_count": null,
   "id": "ec7b7455-06aa-4bf5-be7e-5f5d195b17f5",
   "metadata": {},
   "outputs": [],
   "source": []
  }
 ],
 "metadata": {
  "kernelspec": {
   "display_name": "Python 3 (ipykernel)",
   "language": "python",
   "name": "python3"
  },
  "language_info": {
   "codemirror_mode": {
    "name": "ipython",
    "version": 3
   },
   "file_extension": ".py",
   "mimetype": "text/x-python",
   "name": "python",
   "nbconvert_exporter": "python",
   "pygments_lexer": "ipython3",
   "version": "3.11.7"
  }
 },
 "nbformat": 4,
 "nbformat_minor": 5
}
