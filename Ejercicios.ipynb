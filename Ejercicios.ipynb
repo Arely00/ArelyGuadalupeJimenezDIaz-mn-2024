{
 "cells": [
  {
   "cell_type": "markdown",
   "id": "06cf07e1",
   "metadata": {},
   "source": [
    "# Ejercicios capitulo 2"
   ]
  },
  {
   "cell_type": "markdown",
   "id": "a0de6e6b",
   "metadata": {},
   "source": [
    "**2.1**\n",
    "Study the propagation of the relative error, for the case of division, $x = a/b$, by analogy to what was done in the main text for the case of multiplication.\n"
   ]
  },
  {
   "cell_type": "markdown",
   "id": "0e91dc38",
   "metadata": {},
   "source": [
    " If     $x= \\cfrac{a}{b}$ $\\Rightarrow$ $\\tilde{x}= \\cfrac{\\tilde{a}}{\\tilde{b}}$ "
   ]
  },
  {
   "cell_type": "markdown",
   "id": "a5a6c658",
   "metadata": {},
   "source": [
    "Now aply the definition of $\\tilde{a}$\n",
    "\n",
    "$\\tilde{a}=a(1+\\delta a)$   and $\\tilde{b}=b(1+\\delta b)$"
   ]
  },
  {
   "cell_type": "markdown",
   "id": "f41246cd",
   "metadata": {},
   "source": [
    "Then \n",
    "$\\delta x = \\cfrac{\\tilde{x}-x}{x}= \\cfrac{\\cfrac{\\tilde{a}}{\\tilde{b}}- \\cfrac{a}{b}}{\\cfrac{a}{b}}= \\cfrac{\\cfrac{a(1+\\delta a)}{b(a+\\delta b)}-\\cfrac{a}{b}}{\\cfrac{a}{b}}= \\cfrac{\\cfrac{a}{b} \\left(\\cfrac{1+\\delta a}{1+\\delta b} \\right)-1} {\\cfrac{a}{b}}$\n"
   ]
  },
  {
   "cell_type": "markdown",
   "id": "a3a28201",
   "metadata": {},
   "source": [
    "$= \\cfrac{1+\\delta a}{1+ \\delta b}-1= \\cfrac{1+\\delta a -1-\\delta b}{1+ \\delta b}= \\cfrac{\\delta a - \\delta b}{1+\\delta b}=\\delta a-\\delta b$"
   ]
  },
  {
   "cell_type": "markdown",
   "id": "72cb9e13",
   "metadata": {},
   "source": [
    "consider than $\\delta b \\ll 1$"
   ]
  },
  {
   "cell_type": "markdown",
   "id": "ed2349d3",
   "metadata": {},
   "source": [
    "R. Hence $|\\delta x| \\leq |\\delta a|-|\\delta b|$"
   ]
  },
  {
   "cell_type": "markdown",
   "id": "af08ec8f",
   "metadata": {},
   "source": [
    "**2.4** Without rounding error, the following code’s output would be $f (x) = x$ (Note that this has nothing to do with catastrophic cancellation.) Determine what’s going on, remembering our comment (section 2.4) on one or two iterations being the culprits."
   ]
  },
  {
   "cell_type": "code",
   "execution_count": 47,
   "id": "c735c81f",
   "metadata": {},
   "outputs": [
    {
     "name": "stdout",
     "output_type": "stream",
     "text": [
      "5.0 1.0\n",
      "0.5 0.0\n"
     ]
    }
   ],
   "source": [
    "from math import sqrt\n",
    "def f(x,nmax=100):\n",
    "    for i in range(nmax):\n",
    "        x = sqrt(x)\n",
    "    for i in range(nmax):\n",
    "        x = x**2\n",
    "    return x\n",
    "for xin in (5., 0.5):\n",
    "    xout = f(xin); print(xin, xout)"
   ]
  },
  {
   "cell_type": "markdown",
   "id": "5d8675e2",
   "metadata": {},
   "source": [
    "R. "
   ]
  },
  {
   "cell_type": "markdown",
   "id": "8ff0492a",
   "metadata": {},
   "source": [
    "**2.7** We promised to return to the distinction between catastrophic and benign cancellation. Take $\\tilde{x}$ and $\\tilde{y}$ to be: $\\tilde{x}= 1234567891234567.0$ and $\\tilde{y} = 1234567891234566.0$\n",
    "Now, if we try to evaluate $\\tilde{x}^2 - \\tilde{y}^2$ we will experience catastrophic cancellation: each\n",
    "of the squaring operations leads to a rounding error and then the subtraction exacerbates that dramatically. Write a Python code that does the following:\n",
    "\n",
    "(a) Carries out the calculation $1234567891234567^2 − 1234567891234566^2$ using integers, i.e., exactly.\n",
    "\n",
    "(b) Carries out the subtraction\n",
    "$1234567891234567.0^2−1234567891234566.0^2$ using\n",
    "ﬂoats, i.e., exhibiting catastrophic cancellation.\n",
    "\n",
    "(c) Now, we will employ a trick: $x^2 − y^2$ can be re-expressed as $(x − y)(x + y)$. Try\n",
    "using this trick for the ﬂoats and see what happens. Does your answer match the integer answer or the catastrophic-cancellation answer? Why?\n"
   ]
  },
  {
   "cell_type": "code",
   "execution_count": 120,
   "id": "05cd66c7",
   "metadata": {},
   "outputs": [],
   "source": [
    "x=1234567891234567\n",
    "y=1234567891234566\n",
    "x0=1234567891234567.0\n",
    "y0=1234567891234566.0"
   ]
  },
  {
   "cell_type": "code",
   "execution_count": 121,
   "id": "24bbb02e",
   "metadata": {},
   "outputs": [],
   "source": [
    "rx=pow(x,2)\n",
    "ry=pow(y,2)"
   ]
  },
  {
   "cell_type": "code",
   "execution_count": 122,
   "id": "a13809de",
   "metadata": {},
   "outputs": [],
   "source": [
    "r=rx-ry"
   ]
  },
  {
   "cell_type": "code",
   "execution_count": 123,
   "id": "50a98e3d",
   "metadata": {},
   "outputs": [
    {
     "name": "stdout",
     "output_type": "stream",
     "text": [
      "1524157878067365654031415677489\n",
      "1524157878067363184895633208356\n",
      "2469135782469133\n"
     ]
    },
    {
     "data": {
      "text/plain": [
       "(None, None, None)"
      ]
     },
     "execution_count": 123,
     "metadata": {},
     "output_type": "execute_result"
    }
   ],
   "source": [
    "print(rx), print(ry), print (r)"
   ]
  },
  {
   "cell_type": "code",
   "execution_count": 124,
   "id": "bc695755",
   "metadata": {},
   "outputs": [],
   "source": [
    "r0=x0**2-y0**2"
   ]
  },
  {
   "cell_type": "code",
   "execution_count": 125,
   "id": "e1dcee72",
   "metadata": {},
   "outputs": [
    {
     "name": "stdout",
     "output_type": "stream",
     "text": [
      "2533274790395904.0\n"
     ]
    }
   ],
   "source": [
    "print(r0)"
   ]
  },
  {
   "cell_type": "code",
   "execution_count": 126,
   "id": "018f8e89",
   "metadata": {},
   "outputs": [],
   "source": [
    "rt1=(x-y)\n",
    "rt2=(x+y)\n",
    "\n",
    "rt10=(x0-y0)\n",
    "rt20=(x0+y0)\n"
   ]
  },
  {
   "cell_type": "code",
   "execution_count": 127,
   "id": "6c3fa1a0",
   "metadata": {},
   "outputs": [],
   "source": [
    "rt=rt1*rt2\n",
    "rt0=rt10*rt20"
   ]
  },
  {
   "cell_type": "code",
   "execution_count": 128,
   "id": "530a44aa",
   "metadata": {},
   "outputs": [
    {
     "name": "stdout",
     "output_type": "stream",
     "text": [
      "2469135782469133\n",
      "2469135782469133.0\n"
     ]
    },
    {
     "data": {
      "text/plain": [
       "(None, None)"
      ]
     },
     "execution_count": 128,
     "metadata": {},
     "output_type": "execute_result"
    }
   ],
   "source": [
    "print(rt), print(rt0)"
   ]
  },
  {
   "cell_type": "code",
   "execution_count": 129,
   "id": "0c9e8cca",
   "metadata": {},
   "outputs": [],
   "source": [
    "s=rt-r\n",
    "s0=rt-r0\n",
    "s1=rt0-r\n",
    "s10=rt0-r0"
   ]
  },
  {
   "cell_type": "code",
   "execution_count": 130,
   "id": "57bbd576",
   "metadata": {},
   "outputs": [
    {
     "name": "stdout",
     "output_type": "stream",
     "text": [
      "0\n",
      "-64139007926771.0\n",
      "0.0\n",
      "-64139007926771.0\n"
     ]
    },
    {
     "data": {
      "text/plain": [
       "(None, None, None, None)"
      ]
     },
     "execution_count": 130,
     "metadata": {},
     "output_type": "execute_result"
    }
   ],
   "source": [
    "print(s), print(s0), print (s1), print(s10)"
   ]
  },
  {
   "cell_type": "markdown",
   "id": "f76adcb8",
   "metadata": {},
   "source": [
    "R. We can evade the catastrophic cancellation with use of integers, or use elemental operation instead of operations more difficults with float\n"
   ]
  },
  {
   "cell_type": "markdown",
   "id": "0ecb381e",
   "metadata": {},
   "source": [
    "**2.10** As a statistical warmup to chapters 6 and 7, evaluate the mean of the n values $x_i : \\mu = \\sum_{i=0}^{n−1} \\cfrac{ x_i} {n}$. You can evaluate the variance using a two-pass algorithm:\n",
    "\n",
    "$\\sigma^2=\\cfrac{1}{n}\\sum_{i=0}^{n-1}(x_i-\\mu)^2$\n",
    "\n",
    "This is called a two-pass algorithm because you need to evaluate the mean ﬁrst, so you have to loop through the xi once to get the mean and a second time time to get the variance. Many people prefer the following one-pass algorithm:\n",
    "\n",
    "$\\sigma^2=\\left(\\cfrac{1}{n}\\sum_{i=0}^{n-1}x_i^2\\right)-\\mu^2$\n",
    "\n",
    "You should be able to see that this formula allows you to keep running sums of the $x_i$ and the $x_i^2$ values in parallel and then perform only one subtraction at the end.\n",
    "Naively, you might think that the two-pass algorithm will suﬀer from more roundoﬀ error problems, since it involves n subtractions. On the other hand, if you solved problem 2.7 on $\\tilde{x}^2 − \\tilde{y}^2$ , you might be more wary of subtracting the squares of two\n",
    "nearly equal numbers (which is what the one-pass algorithm does). Write two Python functions, one for each algorithm, and test them on the two cases below: \n",
    "\n",
    "$x_i=0, 0.01, 0.02,..., 0.09$\n",
    "$x_i=123456789.0, 123456789.01, 123456789.02,..., 123456789.09$\n"
   ]
  },
  {
   "cell_type": "code",
   "execution_count": 108,
   "id": "b8a3efc5",
   "metadata": {},
   "outputs": [],
   "source": [
    "import numpy as np\n",
    "\n",
    "def numeros(ini,fi,N):\n",
    "    numeros=np.linspace(ini,fi,N)\n",
    "    return numeros\n",
    "\n",
    "def mu(ini,fi,N):\n",
    "    suma=0\n",
    "    numeros=np.linspace(ini,fi,N)\n",
    "    for i in numeros:\n",
    "        suma+=i\n",
    "    m=suma/N\n",
    "    return m\n",
    "\n",
    "def resta(x,ini,fi,N):\n",
    "    return (x-mu(ini,fi,N))**2    \n",
    "\n",
    "def v(ini,fi,N):\n",
    "    numeros2=resta(numeros(ini,fi,N),ini,fi,N)\n",
    "    suma=0\n",
    "    for i in numeros2:\n",
    "        suma+=i\n",
    "    va=suma/N\n",
    "    return va"
   ]
  },
  {
   "cell_type": "code",
   "execution_count": 109,
   "id": "63e4fd41",
   "metadata": {},
   "outputs": [
    {
     "name": "stdout",
     "output_type": "stream",
     "text": [
      "[1.   1.01 1.02 1.03 1.04 1.05 1.06 1.07 1.08 1.09]\n",
      "1.045\n",
      "[0.2025 0.1225 0.0625 0.0225 0.0025 0.0025 0.0225 0.0625 0.1225 0.2025]\n",
      "0.0008250000000000014\n"
     ]
    },
    {
     "data": {
      "text/plain": [
       "(None, None, None, None)"
      ]
     },
     "execution_count": 109,
     "metadata": {},
     "output_type": "execute_result"
    }
   ],
   "source": [
    "print(numeros(1.00,1.09,10)), print (mu(1.00,1.09,10)), print(numeros2), print(v(1.00,1.09,10))"
   ]
  },
  {
   "cell_type": "code",
   "execution_count": 116,
   "id": "524ee8f2",
   "metadata": {},
   "outputs": [],
   "source": [
    "import numpy as np\n",
    "\n",
    "def numeros(ini,fi,N):\n",
    "    numeros=np.linspace(ini,fi,N)\n",
    "    return numeros\n",
    "\n",
    "def mu1(ini,fi,N):\n",
    "    suma=0\n",
    "    numeros=np.linspace(ini,fi,N)\n",
    "    for i in numeros:\n",
    "        suma+=i\n",
    "    m=suma/N\n",
    "    return m\n",
    "\n",
    "def po(x):\n",
    "    return (x)**2\n",
    "\n",
    "def var(ini,fi,N):\n",
    "    numeross=po(numeros(ini,fi,N))\n",
    "    suma=0\n",
    "    for i in numeross:\n",
    "        suma+=i\n",
    "    var=(suma/N)-(mu1(ini,fi,N))**2\n",
    "    return var\n"
   ]
  },
  {
   "cell_type": "code",
   "execution_count": 117,
   "id": "adb9c6c6",
   "metadata": {},
   "outputs": [
    {
     "name": "stdout",
     "output_type": "stream",
     "text": [
      "1.045\n",
      "0.0008250000000000757\n"
     ]
    },
    {
     "data": {
      "text/plain": [
       "(None, None)"
      ]
     },
     "execution_count": 117,
     "metadata": {},
     "output_type": "execute_result"
    }
   ],
   "source": [
    "print(mu1(1.00,1.09,10)), print(var(1.00,1.09,10))"
   ]
  },
  {
   "cell_type": "code",
   "execution_count": 112,
   "id": "balanced-links",
   "metadata": {},
   "outputs": [
    {
     "name": "stdout",
     "output_type": "stream",
     "text": [
      "[1.23456789e+08 1.23456789e+08 1.23456789e+08 1.23456789e+08\n",
      " 1.23456789e+08 1.23456789e+08 1.23456789e+08 1.23456789e+08\n",
      " 1.23456789e+08 1.23456789e+08]\n",
      "123456789.04499999\n",
      "0.0008250000357630238\n"
     ]
    },
    {
     "data": {
      "text/plain": [
       "(None, None, None)"
      ]
     },
     "execution_count": 112,
     "metadata": {},
     "output_type": "execute_result"
    }
   ],
   "source": [
    "print(numeros(123456789.00,123456789.09,10)), print (mu(123456789.00,123456789.09,10)) ,print(v(123456789.00,123456789.09,10))"
   ]
  },
  {
   "cell_type": "code",
   "execution_count": 118,
   "id": "velvet-athletics",
   "metadata": {},
   "outputs": [
    {
     "name": "stdout",
     "output_type": "stream",
     "text": [
      "123456789.04499999\n",
      "4.0\n"
     ]
    },
    {
     "data": {
      "text/plain": [
       "(None, None)"
      ]
     },
     "execution_count": 118,
     "metadata": {},
     "output_type": "execute_result"
    }
   ],
   "source": [
    "print(mu1(123456789.00,123456789.09,10)), print(var(123456789.00,123456789.09,10))"
   ]
  },
  {
   "cell_type": "markdown",
   "id": "appointed-blogger",
   "metadata": {},
   "source": [
    "**2.13** This problem studies a new rational function:\n",
    "\n",
    "$t(x)=\\cfrac{7x^4-101x^3+540x^2-1204x+958}{x^4-14x^3+72x^2-151x+112}$\n",
    "\n",
    "Notice that the denominator is the same as in problem 2.12.\n",
    "\n",
    "(a) Plot $t(x)$, evaluated via Horner’s rule, along with the following (equivalent) continued fraction, from $x = 0$ to $x = 4$:\n",
    "\n",
    "$u(x)=7-\\cfrac{3}{x-2-\\cfrac{1}{x-7+\\cfrac{10}{x-2-\\cfrac{2}{x-3}}}}$\n",
    "\n",
    "You may wish to know that:\n",
    "\n",
    "$u(1)=10, u(2)=7, u(3)=4.6, u(4)=5.5 $\n",
    "\n",
    "(b) Evaluate each of these functions for $x = 10^{77}$ (make sure to use ﬂoats in your\n",
    "code). Do you understand what is happening? Are you starting to prefer one\n",
    "formulation over the other? (What happens if you use integers instead of ﬂoats?)\n",
    "\n",
    "(c) Plot the two Python functions (t(x) and u(x)) for $x = 2.400 + 2^{−52} i$, where i goesfrom 0 to 800. Was your intuition (about which formulation is better) correct?"
   ]
  },
  {
   "cell_type": "code",
   "execution_count": 2,
   "id": "compressed-thursday",
   "metadata": {},
   "outputs": [],
   "source": [
    "def horner(coef,x0,xf):\n",
    "    n=len(coef)\n",
    "    x=xf-x0\n",
    "    for i in range (x):\n",
    "        poli=coef[n-1]\n",
    "        polin=0\n",
    "        for j in range(n-1,0,-1):\n",
    "            polin=(poli)*i+coef[j-1]\n",
    "            poli=polin\n",
    "       # print ([i,poli])\n",
    "    return poli\n",
    "\n",
    "def horner2(x):\n",
    "    coef=[958,-1204,540,-101,7]\n",
    "    n=len(coef)\n",
    "    poli=coef[n-1]\n",
    "    polin=0\n",
    "    for j in range(n-1,0,-1):\n",
    "        polin=(poli)*x+coef[j-1]\n",
    "        poli=polin\n",
    "    #print ([x,poli]) \n",
    "    return poli\n",
    "\n",
    "def horner3(x):\n",
    "    coef=[112,-151,72,-14,1]\n",
    "    n=len(coef)\n",
    "    poli=coef[n-1]\n",
    "    polin=0\n",
    "    for j in range(n-1,0,-1):\n",
    "        polin=(poli)*x+coef[j-1]\n",
    "        poli=polin\n",
    "    #print ([x,poli]) \n",
    "    return poli"
   ]
  },
  {
   "cell_type": "code",
   "execution_count": 3,
   "id": "demographic-graduate",
   "metadata": {},
   "outputs": [],
   "source": [
    "def u(x):\n",
    "    ux=7-3/(x-2-1/(x-7+10/(x-2-2/(x-3))))\n",
    "    return ux\n"
   ]
  },
  {
   "cell_type": "code",
   "execution_count": 41,
   "id": "municipal-footage",
   "metadata": {},
   "outputs": [
    {
     "data": {
      "image/png": "[encoded data removed]",
      "text/plain": [
       "<Figure size 640x480 with 1 Axes>"
      ]
     },
     "metadata": {},
     "output_type": "display_data"
    }
   ],
   "source": [
    "from matplotlib import pyplot\n",
    "x = range(0, 5)\n",
    "pyplot.plot(x, [horner2(i)/horner3(i) for i in x],'rx')\n",
    "pyplot.show()\n"
   ]
  },
  {
   "cell_type": "code",
   "execution_count": 8,
   "id": "adjacent-rescue",
   "metadata": {},
   "outputs": [
    {
     "name": "stdout",
     "output_type": "stream",
     "text": [
      "horner= 7.0 ux= 7.0\n"
     ]
    }
   ],
   "source": [
    "eh=horner2(pow(10,77))/horner3(pow(10,77))\n",
    "eu=u(pow(10,77))\n",
    "print(\"horner=\",eh,\"ux=\", eu)\n"
   ]
  },
  {
   "cell_type": "code",
   "execution_count": null,
   "id": "b9077608",
   "metadata": {},
   "outputs": [],
   "source": []
  },
  {
   "cell_type": "code",
   "execution_count": 50,
   "id": "4b7884f9",
   "metadata": {},
   "outputs": [
    {
     "data": {
      "text/plain": [
       "(0.7407108239095263, 0.7407108239095342)"
      ]
     },
     "execution_count": 50,
     "metadata": {},
     "output_type": "execute_result"
    }
   ],
   "source": [
    "2**(-52)\n",
    "\n",
    "horner4(2.4+2**(-52)*3)/horner5(2.4+2**(-52)*3), horner4(2.4+2**(-52)*400)/horner5(2.4+2**(-52)*400)\n"
   ]
  },
  {
   "cell_type": "code",
   "execution_count": 52,
   "id": "3a9d835f",
   "metadata": {},
   "outputs": [
    {
     "data": {
      "text/plain": [
       "[0.7407108239095289,\n",
       " 0.7407108239095204,\n",
       " 0.7407108239095199,\n",
       " 0.740710823909548,\n",
       " 0.7407108239095342,\n",
       " 0.7407108239095104,\n",
       " 0.7407108239095305,\n",
       " 0.7407108239095013]"
      ]
     },
     "execution_count": 52,
     "metadata": {},
     "output_type": "execute_result"
    }
   ],
   "source": [
    "def horapp(x):\n",
    "    return horner4(x)/horner5(x)\n",
    "\n",
    "[horapp(2.4+2**(-52)*i) for i in range(0,800,100)]\n"
   ]
  },
  {
   "cell_type": "code",
   "execution_count": 58,
   "id": "offshore-matter",
   "metadata": {},
   "outputs": [
    {
     "data": {
      "image/png": "[encoded data removed]",
      "text/plain": [
       "<Figure size 640x480 with 1 Axes>"
      ]
     },
     "metadata": {},
     "output_type": "display_data"
    }
   ],
   "source": [
    "Hlist = [horapp(2.400+pow(2,-52)*i) for i in x]\n",
    "\n",
    "from matplotlib import pyplot\n",
    "x = range(0,800)\n",
    "pyplot.plot(x, [horapp(2.400+pow(2,-52)*i) for i in x] , 'rx')\n",
    "pyplot.show()\n"
   ]
  },
  {
   "cell_type": "code",
   "execution_count": 12,
   "id": "307484a7",
   "metadata": {},
   "outputs": [],
   "source": [
    "def horner(coef,x0,xf):\n",
    "    n=len(coef)\n",
    "    x=xf-x0\n",
    "    for i in range (x):\n",
    "        poli=coef[n-1]\n",
    "        polin=0\n",
    "        for j in range(n-1,0,-1):\n",
    "            polin=(poli)*i+coef[j-1]\n",
    "            poli=polin\n",
    "       # print ([i,poli])\n",
    "    return poli\n",
    "\n",
    "def horner4(x):\n",
    "    coef=[622,-751,324,-59,4]\n",
    "    n=len(coef)\n",
    "    poli=coef[n-1]\n",
    "    polin=0\n",
    "    for j in range(n-1,0,-1):\n",
    "        polin=(poli)*x+coef[j-1]\n",
    "        poli=polin\n",
    "    #print ([x,poli]) \n",
    "    return poli\n",
    "def horner5(x):\n",
    "    coef=[112,-151,72,-14,1]\n",
    "    n=len(coef)\n",
    "    poli=coef[n-1]\n",
    "    polin=0\n",
    "    for j in range(n-1,0,-1):\n",
    "        polin=(poli)*x+coef[j-1]\n",
    "        poli=polin\n",
    "    #print ([x,poli]) \n",
    "    return poli"
   ]
  },
  {
   "cell_type": "code",
   "execution_count": 40,
   "id": "e68cba82",
   "metadata": {},
   "outputs": [
    {
     "data": {
      "image/png": "[encoded data removed]",
      "text/plain": [
       "<Figure size 640x480 with 1 Axes>"
      ]
     },
     "metadata": {},
     "output_type": "display_data"
    }
   ],
   "source": [
    "from matplotlib import pyplot\n",
    "x = range(0,800)\n",
    "pyplot.plot(x, [horner4((2.400+pow(2,-52)*i)/horner5(2.400+pow(2,-52)*i)) for i in x])\n",
    "pyplot.show()\n"
   ]
  },
  {
   "cell_type": "code",
   "execution_count": 25,
   "id": "1c7526a4",
   "metadata": {},
   "outputs": [
    {
     "data": {
      "image/png": "[encoded data removed]",
      "text/plain": [
       "<Figure size 640x480 with 1 Axes>"
      ]
     },
     "metadata": {},
     "output_type": "display_data"
    }
   ],
   "source": [
    "from matplotlib import pyplot\n",
    "x = range(0,800)\n",
    "pyplot.plot(x, [horner4((1.606+(pow(2,-52)*i))/horner5(1.606+(pow(2,-52)*i))) for i in x])\n",
    "pyplot.show()\n"
   ]
  },
  {
   "cell_type": "code",
   "execution_count": null,
   "id": "a183e10c",
   "metadata": {},
   "outputs": [],
   "source": []
  }
 ],
 "metadata": {
  "kernelspec": {
   "display_name": "Python 3 (ipykernel)",
   "language": "python",
   "name": "python3"
  },
  "language_info": {
   "codemirror_mode": {
    "name": "ipython",
    "version": 3
   },
   "file_extension": ".py",
   "mimetype": "text/x-python",
   "name": "python",
   "nbconvert_exporter": "python",
   "pygments_lexer": "ipython3",
   "version": "3.9.13"
  }
 },
 "nbformat": 4,
 "nbformat_minor": 5
}
