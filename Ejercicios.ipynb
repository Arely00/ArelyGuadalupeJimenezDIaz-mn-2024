{
 "cells": [
  {
   "cell_type": "markdown",
   "id": "06cf07e1",
   "metadata": {},
   "source": [
    "# Ejercicios capitulo 2"
   ]
  },
  {
   "cell_type": "markdown",
   "id": "a0de6e6b",
   "metadata": {},
   "source": [
    "**2.1**\n",
    "Study the propagation of the relative error, for the case of division, $x = a/b$, by analogy to what was done in the main text for the case of multiplication.\n"
   ]
  },
  {
   "cell_type": "markdown",
   "id": "0e91dc38",
   "metadata": {},
   "source": [
    " If     $x= \\cfrac{a}{b}$ $\\Rightarrow$ $\\tilde{x}= \\cfrac{\\tilde{a}}{\\tilde{b}}$ "
   ]
  },
  {
   "cell_type": "markdown",
   "id": "a5a6c658",
   "metadata": {},
   "source": [
    "Now aply the definition of $\\tilde{a}$\n",
    "\n",
    "$\\tilde{a}=a(1+\\delta a)$   and $\\tilde{b}=b(1+\\delta b)$"
   ]
  },
  {
   "cell_type": "markdown",
   "id": "f41246cd",
   "metadata": {},
   "source": [
    "Then \n",
    "$\\delta x = \\cfrac{\\tilde{x}-x}{x}= \\cfrac{\\cfrac{\\tilde{a}}{\\tilde{b}}- \\cfrac{a}{b}}{\\cfrac{a}{b}}= \\cfrac{\\cfrac{a(1+\\delta a)}{b(a+\\delta b)}-\\cfrac{a}{b}}{\\cfrac{a}{b}}= \\cfrac{\\cfrac{a}{b} \\left(\\cfrac{1+\\delta a}{1+\\delta b} \\right)-1} {\\cfrac{a}{b}}$\n"
   ]
  },
  {
   "cell_type": "markdown",
   "id": "a3a28201",
   "metadata": {},
   "source": [
    "$= \\cfrac{1+\\delta a}{1+ \\delta b}-1= \\cfrac{1+\\delta a -1-\\delta b}{1+ \\delta b}= \\cfrac{\\delta a - \\delta b}{1+\\delta b}=\\delta a-\\delta b$"
   ]
  },
  {
   "cell_type": "markdown",
   "id": "72cb9e13",
   "metadata": {},
   "source": [
    "consider than $\\delta b \\ll 1$"
   ]
  },
  {
   "cell_type": "markdown",
   "id": "ed2349d3",
   "metadata": {},
   "source": [
    "R. Hence $|\\delta x| \\leq |\\delta a|-|\\delta b|$"
   ]
  },
  {
   "cell_type": "markdown",
   "id": "af08ec8f",
   "metadata": {},
   "source": [
    "**2.4** Without rounding error, the following code’s output would be $f (x) = x$ (Note that this has nothing to do with catastrophic cancellation.) Determine what’s going on, remembering our comment (section 2.4) on one or two iterations being the culprits."
   ]
  },
  {
   "cell_type": "code",
   "execution_count": 47,
   "id": "c735c81f",
   "metadata": {},
   "outputs": [
    {
     "name": "stdout",
     "output_type": "stream",
     "text": [
      "5.0 1.0\n",
      "0.5 0.0\n"
     ]
    }
   ],
   "source": [
    "from math import sqrt\n",
    "def f(x,nmax=100):\n",
    "    for i in range(nmax):\n",
    "        x = sqrt(x)\n",
    "    for i in range(nmax):\n",
    "        x = x**2\n",
    "    return x\n",
    "for xin in (5., 0.5):\n",
    "    xout = f(xin); print(xin, xout)"
   ]
  },
  {
   "cell_type": "markdown",
   "id": "5d8675e2",
   "metadata": {},
   "source": [
    "R. "
   ]
  },
  {
   "cell_type": "markdown",
   "id": "8ff0492a",
   "metadata": {},
   "source": [
    "**2.7** We promised to return to the distinction between catastrophic and benign cancellation. Take $\\tilde{x}$ and $\\tilde{y}$ to be: $\\tilde{x}= 1234567891234567.0$ and $\\tilde{y} = 1234567891234566.0$\n",
    "Now, if we try to evaluate $\\tilde{x}^2 - \\tilde{y}^2$ we will experience catastrophic cancellation: each\n",
    "of the squaring operations leads to a rounding error and then the subtraction exacerbates that dramatically. Write a Python code that does the following:\n",
    "\n",
    "(a) Carries out the calculation $1234567891234567^2 − 1234567891234566^2$ using integers, i.e., exactly.\n",
    "\n",
    "(b) Carries out the subtraction\n",
    "$1234567891234567.0^2−1234567891234566.0^2$ using\n",
    "ﬂoats, i.e., exhibiting catastrophic cancellation.\n",
    "\n",
    "(c) Now, we will employ a trick: $x^2 − y^2$ can be re-expressed as $(x − y)(x + y)$. Try\n",
    "using this trick for the ﬂoats and see what happens. Does your answer match the integer answer or the catastrophic-cancellation answer? Why?\n"
   ]
  },
  {
   "cell_type": "code",
   "execution_count": 18,
   "id": "05cd66c7",
   "metadata": {},
   "outputs": [],
   "source": [
    "x=1234567891234567\n",
    "y=1234567891234566\n",
    "x0=1234567891234567.0\n",
    "y0=1234567891234566.0"
   ]
  },
  {
   "cell_type": "code",
   "execution_count": 31,
   "id": "24bbb02e",
   "metadata": {},
   "outputs": [],
   "source": [
    "rx=pow(x,2)\n",
    "ry=pow(y,2)"
   ]
  },
  {
   "cell_type": "code",
   "execution_count": 32,
   "id": "a13809de",
   "metadata": {},
   "outputs": [],
   "source": [
    "r=rx-ry"
   ]
  },
  {
   "cell_type": "code",
   "execution_count": 33,
   "id": "50a98e3d",
   "metadata": {},
   "outputs": [
    {
     "name": "stdout",
     "output_type": "stream",
     "text": [
      "1524157878067365654031415677489\n",
      "1524157878067363184895633208356\n",
      "2469135782469133\n"
     ]
    },
    {
     "data": {
      "text/plain": [
       "(None, None, None)"
      ]
     },
     "execution_count": 33,
     "metadata": {},
     "output_type": "execute_result"
    }
   ],
   "source": [
    "print(rx), print(ry), print (r)"
   ]
  },
  {
   "cell_type": "code",
   "execution_count": 35,
   "id": "bc695755",
   "metadata": {},
   "outputs": [],
   "source": [
    "r0=x0**2-y0**2"
   ]
  },
  {
   "cell_type": "code",
   "execution_count": 36,
   "id": "e1dcee72",
   "metadata": {},
   "outputs": [
    {
     "name": "stdout",
     "output_type": "stream",
     "text": [
      "2533274790395904.0\n"
     ]
    }
   ],
   "source": [
    "print(r0)"
   ]
  },
  {
   "cell_type": "code",
   "execution_count": 38,
   "id": "018f8e89",
   "metadata": {},
   "outputs": [],
   "source": [
    "rt1=(x-y)\n",
    "rt2=(x+y)"
   ]
  },
  {
   "cell_type": "code",
   "execution_count": 40,
   "id": "6c3fa1a0",
   "metadata": {},
   "outputs": [],
   "source": [
    "rt=rt1*rt2"
   ]
  },
  {
   "cell_type": "code",
   "execution_count": 41,
   "id": "530a44aa",
   "metadata": {},
   "outputs": [
    {
     "name": "stdout",
     "output_type": "stream",
     "text": [
      "2469135782469133\n"
     ]
    }
   ],
   "source": [
    "print(rt)"
   ]
  },
  {
   "cell_type": "code",
   "execution_count": 43,
   "id": "0c9e8cca",
   "metadata": {},
   "outputs": [],
   "source": [
    "s=rt-r\n",
    "s0=rt-r0"
   ]
  },
  {
   "cell_type": "code",
   "execution_count": 44,
   "id": "57bbd576",
   "metadata": {},
   "outputs": [
    {
     "name": "stdout",
     "output_type": "stream",
     "text": [
      "0\n",
      "-64139007926771.0\n"
     ]
    },
    {
     "data": {
      "text/plain": [
       "(None, None)"
      ]
     },
     "execution_count": 44,
     "metadata": {},
     "output_type": "execute_result"
    }
   ],
   "source": [
    "print(s), print(s0)"
   ]
  },
  {
   "cell_type": "markdown",
   "id": "f76adcb8",
   "metadata": {},
   "source": [
    "R."
   ]
  },
  {
   "cell_type": "markdown",
   "id": "0ecb381e",
   "metadata": {},
   "source": [
    "**2.10** As a statistical warmup to chapters 6 and 7, evaluate the mean of the n values $x_i : \\mu = \\sum_{i=0}^{n−1} \\cfrac{ x_i} {n}$. You can evaluate the variance using a two-pass algorithm:\n",
    "\n",
    "$\\sigma^2=\\cfrac{1}{n}\\sum_{i=0}^{n-1}(x_i-\\mu)^2$\n",
    "\n",
    "This is called a two-pass algorithm because you need to evaluate the mean ﬁrst, so you have to loop through the xi once to get the mean and a second time time to get the variance. Many people prefer the following one-pass algorithm:\n",
    "\n",
    "$\\sigma^2=\\left(\\cfrac{1}{n}\\sum_{i=0}^{n-1}x_i^2\\right)-\\mu^2$\n",
    "\n",
    "You should be able to see that this formula allows you to keep running sums of the $x_i$ and the $x_i^2$ values in parallel and then perform only one subtraction at the end.\n",
    "Naively, you might think that the two-pass algorithm will suﬀer from more roundoﬀ error problems, since it involves n subtractions. On the other hand, if you solved problem 2.7 on $\\tilde{x}^2 − \\tilde{y}^2$ , you might be more wary of subtracting the squares of two\n",
    "nearly equal numbers (which is what the one-pass algorithm does). Write two Python functions, one for each algorithm, and test them on the two cases below: \n",
    "\n",
    "$x_i=0, 0.01, 0.02,..., 0.09$\n",
    "$x_i=123456789.0, 123456789.01, 123456789.02,..., 123456789.09$\n"
   ]
  },
  {
   "cell_type": "code",
   "execution_count": 29,
   "id": "b8a3efc5",
   "metadata": {},
   "outputs": [],
   "source": [
    "\n",
    "def mu(numeros):\n",
    "    suma=0\n",
    "    for i in numeros:\n",
    "        suma=suma+i\n",
    "    m=suma/i\n",
    "    return m\n",
    "\n",
    "\n",
    "def numeros2(numeros):\n",
    "    for i in numeros:\n",
    "        numeros2[i]=(numeros[i]-mu(numeros))**2\n",
    "    return numeros2\n",
    "    \n",
    "\n",
    "def v(numeros2):\n",
    "    suma=0\n",
    "    for i in numeros2:\n",
    "        suma=suma+i\n",
    "    va=suma/i\n",
    "    return va"
   ]
  },
  {
   "cell_type": "code",
   "execution_count": 20,
   "id": "63e4fd41",
   "metadata": {},
   "outputs": [
    {
     "name": "stdout",
     "output_type": "stream",
     "text": [
      "5.0110987791342945\n"
     ]
    }
   ],
   "source": [
    "print(mu([1.01,2.03,3.05,4.01,5.01,6.01,7.01,8.01,9.01]))"
   ]
  },
  {
   "cell_type": "code",
   "execution_count": 30,
   "id": "524ee8f2",
   "metadata": {},
   "outputs": [
    {
     "ename": "TypeError",
     "evalue": "list indices must be integers or slices, not float",
     "output_type": "error",
     "traceback": [
      "\u001b[0;31m---------------------------------------------------------------------------\u001b[0m",
      "\u001b[0;31mTypeError\u001b[0m                                 Traceback (most recent call last)",
      "\u001b[0;32m/tmp/ipykernel_3967/1920369047.py\u001b[0m in \u001b[0;36m<module>\u001b[0;34m\u001b[0m\n\u001b[0;32m----> 1\u001b[0;31m \u001b[0mprint\u001b[0m\u001b[0;34m(\u001b[0m\u001b[0mnumeros2\u001b[0m\u001b[0;34m(\u001b[0m\u001b[0;34m[\u001b[0m\u001b[0;36m1.01\u001b[0m\u001b[0;34m,\u001b[0m\u001b[0;36m2.03\u001b[0m\u001b[0;34m,\u001b[0m\u001b[0;36m3.05\u001b[0m\u001b[0;34m,\u001b[0m\u001b[0;36m4.01\u001b[0m\u001b[0;34m,\u001b[0m\u001b[0;36m5.01\u001b[0m\u001b[0;34m,\u001b[0m\u001b[0;36m6.01\u001b[0m\u001b[0;34m,\u001b[0m\u001b[0;36m7.01\u001b[0m\u001b[0;34m,\u001b[0m\u001b[0;36m8.01\u001b[0m\u001b[0;34m,\u001b[0m\u001b[0;36m9.01\u001b[0m\u001b[0;34m]\u001b[0m\u001b[0;34m)\u001b[0m\u001b[0;34m)\u001b[0m\u001b[0;34m\u001b[0m\u001b[0;34m\u001b[0m\u001b[0m\n\u001b[0m",
      "\u001b[0;32m/tmp/ipykernel_3967/1601547686.py\u001b[0m in \u001b[0;36mnumeros2\u001b[0;34m(numeros)\u001b[0m\n\u001b[1;32m      9\u001b[0m \u001b[0;32mdef\u001b[0m \u001b[0mnumeros2\u001b[0m\u001b[0;34m(\u001b[0m\u001b[0mnumeros\u001b[0m\u001b[0;34m)\u001b[0m\u001b[0;34m:\u001b[0m\u001b[0;34m\u001b[0m\u001b[0;34m\u001b[0m\u001b[0m\n\u001b[1;32m     10\u001b[0m     \u001b[0;32mfor\u001b[0m \u001b[0mi\u001b[0m \u001b[0;32min\u001b[0m \u001b[0mnumeros\u001b[0m\u001b[0;34m:\u001b[0m\u001b[0;34m\u001b[0m\u001b[0;34m\u001b[0m\u001b[0m\n\u001b[0;32m---> 11\u001b[0;31m         \u001b[0mnumeros2\u001b[0m\u001b[0;34m[\u001b[0m\u001b[0mi\u001b[0m\u001b[0;34m]\u001b[0m\u001b[0;34m=\u001b[0m\u001b[0;34m(\u001b[0m\u001b[0mnumeros\u001b[0m\u001b[0;34m[\u001b[0m\u001b[0mi\u001b[0m\u001b[0;34m]\u001b[0m\u001b[0;34m-\u001b[0m\u001b[0mmu\u001b[0m\u001b[0;34m(\u001b[0m\u001b[0mnumeros\u001b[0m\u001b[0;34m)\u001b[0m\u001b[0;34m)\u001b[0m\u001b[0;34m**\u001b[0m\u001b[0;36m2\u001b[0m\u001b[0;34m\u001b[0m\u001b[0;34m\u001b[0m\u001b[0m\n\u001b[0m\u001b[1;32m     12\u001b[0m     \u001b[0;32mreturn\u001b[0m \u001b[0mnumeros2\u001b[0m\u001b[0;34m\u001b[0m\u001b[0;34m\u001b[0m\u001b[0m\n\u001b[1;32m     13\u001b[0m \u001b[0;34m\u001b[0m\u001b[0m\n",
      "\u001b[0;31mTypeError\u001b[0m: list indices must be integers or slices, not float"
     ]
    }
   ],
   "source": [
    "print(numeros2([1.01,2.03,3.05,4.01,5.01,6.01,7.01,8.01,9.01]))"
   ]
  },
  {
   "cell_type": "code",
   "execution_count": null,
   "id": "adb9c6c6",
   "metadata": {},
   "outputs": [],
   "source": []
  }
 ],
 "metadata": {
  "kernelspec": {
   "display_name": "Python 3 (ipykernel)",
   "language": "python",
   "name": "python3"
  },
  "language_info": {
   "codemirror_mode": {
    "name": "ipython",
    "version": 3
   },
   "file_extension": ".py",
   "mimetype": "text/x-python",
   "name": "python",
   "nbconvert_exporter": "python",
   "pygments_lexer": "ipython3",
   "version": "3.9.13"
  }
 },
 "nbformat": 4,
 "nbformat_minor": 5
}
