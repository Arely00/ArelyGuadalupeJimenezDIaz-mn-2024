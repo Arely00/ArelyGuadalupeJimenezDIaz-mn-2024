{
 "cells": [
  {
   "cell_type": "markdown",
   "id": "asian-slave",
   "metadata": {},
   "source": [
    "# TIPOS DE ERRORES \n",
    "**Errores**\n",
    "1. error relativo\n",
    "3. error absoluto\n"
   ]
  },
  {
   "cell_type": "code",
   "execution_count": 2,
   "id": "plastic-device",
   "metadata": {},
   "outputs": [],
   "source": [
    "a=0.1+0.1+0.1"
   ]
  },
  {
   "cell_type": "code",
   "execution_count": 3,
   "id": "miniature-teaching",
   "metadata": {},
   "outputs": [
    {
     "data": {
      "text/plain": [
       "False"
      ]
     },
     "execution_count": 3,
     "metadata": {},
     "output_type": "execute_result"
    }
   ],
   "source": [
    "a==0.3"
   ]
  },
  {
   "cell_type": "code",
   "execution_count": 4,
   "id": "short-hierarchy",
   "metadata": {},
   "outputs": [
    {
     "ename": "SyntaxError",
     "evalue": "cannot assign to operator (<ipython-input-4-963eec82453a>, line 1)",
     "output_type": "error",
     "traceback": [
      "\u001b[0;36m  File \u001b[0;32m\"<ipython-input-4-963eec82453a>\"\u001b[0;36m, line \u001b[0;32m1\u001b[0m\n\u001b[0;31m    0.3-a=\u001b[0m\n\u001b[0m    ^\u001b[0m\n\u001b[0;31mSyntaxError\u001b[0m\u001b[0;31m:\u001b[0m cannot assign to operator\n"
     ]
    }
   ],
   "source": [
    "0.3-a="
   ]
  },
  {
   "cell_type": "code",
   "execution_count": 6,
   "id": "protective-trout",
   "metadata": {},
   "outputs": [],
   "source": [
    "c=0.3-a"
   ]
  },
  {
   "cell_type": "code",
   "execution_count": 7,
   "id": "unlimited-burlington",
   "metadata": {},
   "outputs": [
    {
     "data": {
      "text/plain": [
       "-5.551115123125783e-17"
      ]
     },
     "execution_count": 7,
     "metadata": {},
     "output_type": "execute_result"
    }
   ],
   "source": [
    "c"
   ]
  },
  {
   "cell_type": "code",
   "execution_count": null,
   "id": "acknowledged-zambia",
   "metadata": {},
   "outputs": [],
   "source": [
    "\n"
   ]
  },
  {
   "cell_type": "code",
   "execution_count": null,
   "id": "representative-edwards",
   "metadata": {},
   "outputs": [],
   "source": []
  }
 ],
 "metadata": {
  "kernelspec": {
   "display_name": "Python 3",
   "language": "python",
   "name": "python3"
  },
  "language_info": {
   "codemirror_mode": {
    "name": "ipython",
    "version": 3
   },
   "file_extension": ".py",
   "mimetype": "text/x-python",
   "name": "python",
   "nbconvert_exporter": "python",
   "pygments_lexer": "ipython3",
   "version": "3.9.2"
  }
 },
 "nbformat": 4,
 "nbformat_minor": 5
}
